{
 "cells": [
  {
   "cell_type": "code",
   "execution_count": 31,
   "metadata": {},
   "outputs": [],
   "source": [
    "import pandas as pd\n",
    "from scipy import stats, optimize, interpolate"
   ]
  },
  {
   "cell_type": "code",
   "execution_count": 32,
   "metadata": {},
   "outputs": [],
   "source": [
    "data = pd.read_csv('final_df_1.csv') "
   ]
  },
  {
   "cell_type": "code",
   "execution_count": 39,
   "metadata": {},
   "outputs": [],
   "source": [
    "# The value of m to be imported from model\n",
    "len(data)\n",
    "m = 2"
   ]
  },
  {
   "cell_type": "code",
   "execution_count": 40,
   "metadata": {},
   "outputs": [],
   "source": [
    "d_num = m-1\n",
    "d_den = len(data)-m"
   ]
  },
  {
   "cell_type": "code",
   "execution_count": 41,
   "metadata": {},
   "outputs": [],
   "source": [
    "data[\"SSE_ind\"] = (data[\"Actual\"]-data[\"Predicted\"])**2\n",
    "data_y_mean = data[\"Actual\"].mean()\n",
    "data[\"SSR_ind\"] = (data[\"Predicted\"]-data_y_mean)**2\n",
    "\n",
    "SSE = data[\"SSE_ind\"].sum()\n",
    "SSR = data[\"SSR_ind\"].sum()\n",
    "SST = SSR+SSE\n",
    "\n",
    "MSR = SSR/d_den\n",
    "MSE = SSE/d_num\n",
    "MST = SST/(len(data)-1)\n",
    "\n"
   ]
  },
  {
   "cell_type": "code",
   "execution_count": 44,
   "metadata": {},
   "outputs": [
    {
     "name": "stdout",
     "output_type": "stream",
     "text": [
      "0.05997271162552613\n"
     ]
    }
   ],
   "source": [
    "Fstat = MSR/MSE\n",
    "p_value = scipy.stats.f.cdf(Fstat, d_num, d_den)\n",
    "print(p_value)"
   ]
  },
  {
   "cell_type": "code",
   "execution_count": null,
   "metadata": {},
   "outputs": [],
   "source": [
    "alpha =0.05"
   ]
  },
  {
   "cell_type": "code",
   "execution_count": 43,
   "metadata": {},
   "outputs": [
    {
     "name": "stdout",
     "output_type": "stream",
     "text": [
      "0.005666040215940301\n"
     ]
    }
   ],
   "source": [
    "if (p_value<alpha):\n",
    "    print(\"reject H0 null hypothesis\")\n",
    "else:\n",
    "    print(\"cannot reject null hypothesis\")\n",
    "    "
   ]
  }
 ],
 "metadata": {
  "kernelspec": {
   "display_name": "Python 3",
   "language": "python",
   "name": "python3"
  },
  "language_info": {
   "codemirror_mode": {
    "name": "ipython",
    "version": 3
   },
   "file_extension": ".py",
   "mimetype": "text/x-python",
   "name": "python",
   "nbconvert_exporter": "python",
   "pygments_lexer": "ipython3",
   "version": "3.7.6"
  }
 },
 "nbformat": 4,
 "nbformat_minor": 4
}
