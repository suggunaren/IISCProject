{
 "cells": [
  {
   "cell_type": "code",
   "execution_count": 113,
   "metadata": {},
   "outputs": [],
   "source": [
    "import os\n",
    "import math\n",
    "import matplotlib.pyplot as plt\n",
    "\n"
   ]
  },
  {
   "cell_type": "code",
   "execution_count": 114,
   "metadata": {},
   "outputs": [
    {
     "name": "stdout",
     "output_type": "stream",
     "text": [
      "[['73', '80', '75', '152'], ['93', '88', '93', '185'], ['89', '91', '90', '180'], ['96', '98', '100', '196'], ['73', '66', '70', '142'], ['53', '46', '55', '101'], ['69', '74', '77', '149'], ['47', '56', '60', '115'], ['87', '79', '90', '175'], ['79', '70', '88', '164'], ['69', '70', '73', '141'], ['70', '65', '74', '141'], ['93', '95', '91', '184'], ['79', '80', '73', '152'], ['70', '73', '78', '148'], ['93', '89', '96', '192'], ['78', '75', '68', '147'], ['81', '90', '93', '183'], ['88', '92', '86', '177'], ['78', '83', '77', '159'], ['82', '86', '90', '177'], ['86', '82', '89', '175'], ['78', '83', '85', '175'], ['76', '83', '71', '149'], ['96', '93', '95', '192']]\n",
      "[152.0]\n",
      "[185.0]\n",
      "[180.0]\n",
      "[196.0]\n",
      "[142.0]\n",
      "[101.0]\n",
      "[149.0]\n",
      "[115.0]\n",
      "[175.0]\n",
      "[164.0]\n",
      "[141.0]\n",
      "[141.0]\n",
      "[184.0]\n",
      "[152.0]\n",
      "[148.0]\n",
      "[192.0]\n",
      "[147.0]\n",
      "[183.0]\n",
      "[177.0]\n",
      "[159.0]\n",
      "[177.0]\n",
      "[175.0]\n",
      "[175.0]\n",
      "[149.0]\n",
      "[192.0]\n",
      "[73.0, 80.0, 75.0, 152.0]\n",
      "[93.0, 88.0, 93.0, 185.0]\n",
      "[89.0, 91.0, 90.0, 180.0]\n",
      "[96.0, 98.0, 100.0, 196.0]\n",
      "[73.0, 66.0, 70.0, 142.0]\n",
      "[53.0, 46.0, 55.0, 101.0]\n",
      "[69.0, 74.0, 77.0, 149.0]\n",
      "[47.0, 56.0, 60.0, 115.0]\n",
      "[87.0, 79.0, 90.0, 175.0]\n",
      "[79.0, 70.0, 88.0, 164.0]\n",
      "[69.0, 70.0, 73.0, 141.0]\n",
      "[70.0, 65.0, 74.0, 141.0]\n",
      "[93.0, 95.0, 91.0, 184.0]\n",
      "[79.0, 80.0, 73.0, 152.0]\n",
      "[70.0, 73.0, 78.0, 148.0]\n",
      "[93.0, 89.0, 96.0, 192.0]\n",
      "[78.0, 75.0, 68.0, 147.0]\n",
      "[81.0, 90.0, 93.0, 183.0]\n",
      "[88.0, 92.0, 86.0, 177.0]\n",
      "[78.0, 83.0, 77.0, 159.0]\n",
      "[82.0, 86.0, 90.0, 177.0]\n",
      "[86.0, 82.0, 89.0, 175.0]\n",
      "[78.0, 83.0, 85.0, 175.0]\n",
      "[76.0, 83.0, 71.0, 149.0]\n",
      "[96.0, 93.0, 95.0, 192.0]\n",
      "[73.0, 80.0, 75.0, 1]\n",
      "[93.0, 88.0, 93.0, 1]\n",
      "[89.0, 91.0, 90.0, 1]\n",
      "[96.0, 98.0, 100.0, 1]\n",
      "[73.0, 66.0, 70.0, 1]\n",
      "[53.0, 46.0, 55.0, 1]\n",
      "[69.0, 74.0, 77.0, 1]\n",
      "[47.0, 56.0, 60.0, 1]\n",
      "[87.0, 79.0, 90.0, 1]\n",
      "[79.0, 70.0, 88.0, 1]\n",
      "[69.0, 70.0, 73.0, 1]\n",
      "[70.0, 65.0, 74.0, 1]\n",
      "[93.0, 95.0, 91.0, 1]\n",
      "[79.0, 80.0, 73.0, 1]\n",
      "[70.0, 73.0, 78.0, 1]\n",
      "[93.0, 89.0, 96.0, 1]\n",
      "[78.0, 75.0, 68.0, 1]\n",
      "[81.0, 90.0, 93.0, 1]\n",
      "[88.0, 92.0, 86.0, 1]\n",
      "[78.0, 83.0, 77.0, 1]\n",
      "[82.0, 86.0, 90.0, 1]\n",
      "[86.0, 82.0, 89.0, 1]\n",
      "[78.0, 83.0, 85.0, 1]\n",
      "[76.0, 83.0, 71.0, 1]\n",
      "[96.0, 93.0, 95.0, 1]\n"
     ]
    }
   ],
   "source": [
    "data = open(\"./mlr03.csv\")\n",
    "data_matrix =[]\n",
    "for row in data:\n",
    "    data_matrix.append(row)\n",
    "\n",
    "attributes_array = [\"Exam1\",\"Exam2\",\"Exam3\"]\n",
    "\n",
    "for index in range(len(data_rows)):\n",
    "    data_matrix[index]=data_matrix[index].strip(\"\\n\")\n",
    "    data_matrix[index]= data_matrix[index].split(\",\")\n",
    "print(data_matrix)\n",
    "\n",
    "#Finding the target Vector i.e Y matrix\n",
    "target_vector = []\n",
    "\n",
    "for i in range(len(data_matrix)):\n",
    "    target_vector.append([data_matrix[i][len(data_matrix[i])-1]])\n",
    "\n",
    "for i in range(len(data_matrix)):\n",
    "    for j in range(len(target_vector[i])):\n",
    "        target_vector[i][j]=float(target_vector[i][j])\n",
    "    print(target_vector[i])\n",
    "\n",
    "Y_matrix = target_vector\n",
    "\n",
    "for i in range(len(data_matrix)):\n",
    "    for j in range(len(data_matrix[i])):\n",
    "        data_matrix[i][j]=float(data_matrix[i][j])\n",
    "for i in range(len(data_matrix)):\n",
    "    print(data_matrix[i])\n",
    "\n",
    "#Finding the input Matrix\n",
    "input_matrix = data_matrix\n",
    "\n",
    "for i in range(len(input_matrix)):\n",
    "    input_matrix[i][len(input_matrix[i])-1]=1\n",
    "\n",
    "for i in range(len(input_matrix)):\n",
    "    print(input_matrix[i])\n",
    "\n",
    "\n",
    "X_matrix = input_matrix\n"
   ]
  },
  {
   "cell_type": "code",
   "execution_count": 115,
   "metadata": {},
   "outputs": [
    {
     "name": "stdout",
     "output_type": "stream",
     "text": [
      "[0]\n",
      "[0]\n",
      "[0]\n",
      "[0]\n"
     ]
    }
   ],
   "source": [
    "#Initializing Beta Matrix \n",
    "beta_initial_matrix = []\n",
    "\n",
    "for i in range(len(attributes_array)+1):\n",
    "    beta_initial_matrix.append([0])\n",
    "    \n",
    "for i in range(len(beta_initial_matrix)):    \n",
    "    print(beta_initial_matrix[i])\n"
   ]
  },
  {
   "cell_type": "code",
   "execution_count": 116,
   "metadata": {},
   "outputs": [
    {
     "name": "stdout",
     "output_type": "stream",
     "text": [
      "25\n"
     ]
    }
   ],
   "source": [
    "number_of_records=len(input_matrix)\n",
    "print(number_of_records)"
   ]
  },
  {
   "cell_type": "code",
   "execution_count": 117,
   "metadata": {},
   "outputs": [
    {
     "name": "stdout",
     "output_type": "stream",
     "text": [
      "25\n",
      "4\n",
      "[73.0, 80.0, 75.0, 1]\n",
      "[93.0, 88.0, 93.0, 1]\n",
      "[89.0, 91.0, 90.0, 1]\n",
      "[96.0, 98.0, 100.0, 1]\n",
      "[73.0, 66.0, 70.0, 1]\n",
      "[53.0, 46.0, 55.0, 1]\n",
      "[69.0, 74.0, 77.0, 1]\n",
      "[47.0, 56.0, 60.0, 1]\n",
      "[87.0, 79.0, 90.0, 1]\n",
      "[79.0, 70.0, 88.0, 1]\n",
      "[69.0, 70.0, 73.0, 1]\n",
      "[70.0, 65.0, 74.0, 1]\n",
      "[93.0, 95.0, 91.0, 1]\n",
      "[79.0, 80.0, 73.0, 1]\n",
      "[70.0, 73.0, 78.0, 1]\n",
      "[93.0, 89.0, 96.0, 1]\n",
      "[78.0, 75.0, 68.0, 1]\n",
      "[81.0, 90.0, 93.0, 1]\n",
      "[88.0, 92.0, 86.0, 1]\n",
      "[78.0, 83.0, 77.0, 1]\n",
      "[82.0, 86.0, 90.0, 1]\n",
      "[86.0, 82.0, 89.0, 1]\n",
      "[78.0, 83.0, 85.0, 1]\n",
      "[76.0, 83.0, 71.0, 1]\n",
      "[96.0, 93.0, 95.0, 1]\n",
      "\n",
      "\n",
      "[73.0, 93.0, 89.0, 96.0, 73.0, 53.0, 69.0, 47.0, 87.0, 79.0, 69.0, 70.0, 93.0, 79.0, 70.0, 93.0, 78.0, 81.0, 88.0, 78.0, 82.0, 86.0, 78.0, 76.0, 96.0]\n",
      "[80.0, 88.0, 91.0, 98.0, 66.0, 46.0, 74.0, 56.0, 79.0, 70.0, 70.0, 65.0, 95.0, 80.0, 73.0, 89.0, 75.0, 90.0, 92.0, 83.0, 86.0, 82.0, 83.0, 83.0, 93.0]\n",
      "[75.0, 93.0, 90.0, 100.0, 70.0, 55.0, 77.0, 60.0, 90.0, 88.0, 73.0, 74.0, 91.0, 73.0, 78.0, 96.0, 68.0, 93.0, 86.0, 77.0, 90.0, 89.0, 85.0, 71.0, 95.0]\n",
      "[1, 1, 1, 1, 1, 1, 1, 1, 1, 1, 1, 1, 1, 1, 1, 1, 1, 1, 1, 1, 1, 1, 1, 1, 1]\n"
     ]
    }
   ],
   "source": [
    "#Computing Jacobian Matrix\n",
    "#J(B)=2*((X_Transpose*X_matrix)*Beta_matrix-(X_transpose*Y_Matrix))/n\n",
    "\n",
    "#Computing X_Transpose\n",
    "\n",
    "X_Transpose=[]\n",
    "\n",
    "rows = len(X_matrix)\n",
    "print(rows)\n",
    "cols = len(X_matrix[0])\n",
    "print(cols)\n",
    "\n",
    "for i in range(cols):\n",
    "    X_Transpose.append([])\n",
    "    for j in range(rows):\n",
    "        X_Transpose[i].append(X_matrix[j][i])\n",
    "\n",
    "for i in range(len(X_matrix)):\n",
    "    print(X_matrix[i])\n",
    "\n",
    "print(\"\\n\")\n",
    "\n",
    "for i in range(len(X_Transpose)):\n",
    "    print(X_Transpose[i])\n"
   ]
  },
  {
   "cell_type": "code",
   "execution_count": 118,
   "metadata": {},
   "outputs": [
    {
     "name": "stdout",
     "output_type": "stream",
     "text": [
      "[[0, 0, 0, 0], [0, 0, 0, 0], [0, 0, 0, 0], [0, 0, 0, 0]]\n"
     ]
    }
   ],
   "source": [
    "#Computing X_Transpose*X_matrix*beta\n",
    "\n",
    "#Computing XT*X\n",
    "\n",
    "\n",
    "rowsA = len(X_Transpose)\n",
    "colsA = len(X_Transpose[0])\n",
    "rowsB = len(X_matrix)\n",
    "colsB = len(X_matrix[0])\n",
    "\n",
    "X_Transpose_X_matrix = []\n",
    "\n",
    "for i in range(rowsA):\n",
    "    X_Transpose_X_matrix.append([])\n",
    "    for j in range(colsB):\n",
    "        X_Transpose_X_matrix[i].append(0)\n",
    "\n",
    "print(X_Transpose_X_matrix)\n",
    "\n",
    "\n",
    "        "
   ]
  },
  {
   "cell_type": "code",
   "execution_count": 119,
   "metadata": {},
   "outputs": [
    {
     "name": "stdout",
     "output_type": "stream",
     "text": [
      "[[159802.0, 160374.0, 164100.0, 1976.0], [160374.0, 161679.0, 164889.0, 1987.0], [164100.0, 164889.0, 169297.0, 2037.0], [1976.0, 1987.0, 2037.0, 25]]\n"
     ]
    }
   ],
   "source": [
    "for i in range(rowsA):\n",
    "        for j in range(colsB):\n",
    "            total = 0\n",
    "            for k in range(colsA):\n",
    "                total += X_Transpose[i][k] * X_matrix[k][j]\n",
    "            X_Transpose_X_matrix[i][j] = total\n",
    "\n",
    "print(X_Transpose_X_matrix)"
   ]
  },
  {
   "cell_type": "code",
   "execution_count": 120,
   "metadata": {},
   "outputs": [
    {
     "name": "stdout",
     "output_type": "stream",
     "text": [
      "[[0], [0], [0], [0]]\n",
      "[[0.0], [0.0], [0.0], [0.0]]\n"
     ]
    }
   ],
   "source": [
    "rowsA = len(X_Transpose_X_matrix)\n",
    "colsA = len(X_Transpose_X_matrix[0])\n",
    "rowsB = len(beta_initial_matrix)\n",
    "colsB = len(beta_initial_matrix[0])\n",
    "\n",
    "X_Transpose_X_matrix_Beta = []\n",
    "\n",
    "for i in range(rowsA):\n",
    "    X_Transpose_X_matrix_Beta.append([])\n",
    "    for j in range(colsB):\n",
    "        X_Transpose_X_matrix_Beta[i].append(0)\n",
    "\n",
    "print(X_Transpose_X_matrix_Beta)\n",
    "\n",
    "for i in range(rowsA):\n",
    "        for j in range(colsB):\n",
    "            total = 0\n",
    "            for k in range(colsA):\n",
    "                total += X_Transpose_X_matrix[i][k] * beta_initial_matrix[k][j]\n",
    "            X_Transpose_X_matrix_Beta[i][j] = total\n",
    "            \n",
    "print(X_Transpose_X_matrix_Beta)"
   ]
  },
  {
   "cell_type": "code",
   "execution_count": 121,
   "metadata": {},
   "outputs": [
    {
     "name": "stdout",
     "output_type": "stream",
     "text": [
      "[[0], [0], [0], [0]]\n",
      "[[326895.0], [328680.0], [336677.0], [4051.0]]\n"
     ]
    }
   ],
   "source": [
    "#Computing X_transpose_Y_matrix\n",
    "\n",
    "\n",
    "rowsA = len(X_Transpose)\n",
    "colsA = len(X_Transpose[0])\n",
    "rowsB = len(Y_matrix)\n",
    "colsB = len(Y_matrix[0])\n",
    "\n",
    "X_Transpose_Y_matrix = []\n",
    "\n",
    "for i in range(rowsA):\n",
    "    X_Transpose_Y_matrix.append([])\n",
    "    for j in range(colsB):\n",
    "        X_Transpose_Y_matrix[i].append(0)\n",
    "\n",
    "print(X_Transpose_Y_matrix)\n",
    "\n",
    "for i in range(rowsA):\n",
    "        for j in range(colsB):\n",
    "            total = 0\n",
    "            for k in range(colsA):\n",
    "                total += X_Transpose[i][k] * Y_matrix[k][j]\n",
    "            X_Transpose_Y_matrix[i][j] = total\n",
    "\n",
    "print(X_Transpose_Y_matrix)"
   ]
  },
  {
   "cell_type": "code",
   "execution_count": 122,
   "metadata": {},
   "outputs": [
    {
     "name": "stdout",
     "output_type": "stream",
     "text": [
      "[[0], [0], [0], [0]]\n",
      "[[-26151.6], [-26294.4], [-26934.16], [-324.08]]\n"
     ]
    }
   ],
   "source": [
    "#Computing (XT*X*B - XT*Y)\n",
    "\n",
    "rows = len(X_Transpose_Y_matrix)\n",
    "cols = len(X_Transpose_Y_matrix[0])\n",
    "\n",
    "Jacobian = []\n",
    "\n",
    "for i in range(rows):\n",
    "    Jacobian.append([])\n",
    "    for j in range(cols):\n",
    "        Jacobian[i].append(0)\n",
    "\n",
    "print(Jacobian)\n",
    "\n",
    "for i in range(rows):\n",
    "        for j in range(cols):\n",
    "            Jacobian[i][j]=(X_Transpose_X_matrix_Beta[i][j]-X_Transpose_Y_matrix[i][j])*2/number_of_records\n",
    "\n",
    "\n",
    "print(Jacobian)"
   ]
  },
  {
   "cell_type": "code",
   "execution_count": 123,
   "metadata": {},
   "outputs": [
    {
     "name": "stdout",
     "output_type": "stream",
     "text": [
      "[[0], [0], [0], [0], [0], [0], [0], [0], [0], [0], [0], [0], [0], [0], [0], [0], [0], [0], [0], [0], [0], [0], [0], [0], [0]]\n",
      "[[0.0], [0.0], [0.0], [0.0], [0.0], [0.0], [0.0], [0.0], [0.0], [0.0], [0.0], [0.0], [0.0], [0.0], [0.0], [0.0], [0.0], [0.0], [0.0], [0.0], [0.0], [0.0], [0.0], [0.0], [0.0]]\n"
     ]
    }
   ],
   "source": [
    "#Computing Y = X*beta\n",
    "\n",
    "Y_fit = []\n",
    "\n",
    "\n",
    "rowsA = len(X_matrix)\n",
    "colsA = len(X_matrix[0])\n",
    "rowsB = len(beta_initial_matrix)\n",
    "colsB = len(beta_initial_matrix[0])\n",
    "\n",
    "\n",
    "Y_fit = []\n",
    "\n",
    "for i in range(rowsA):\n",
    "    Y_fit.append([])\n",
    "    for j in range(colsB):\n",
    "        Y_fit[i].append(0)\n",
    "\n",
    "print(Y_fit)\n",
    "\n",
    "for i in range(rowsA):\n",
    "        for j in range(colsB):\n",
    "            total = 0\n",
    "            for k in range(colsA):\n",
    "                total += X_matrix[i][k] * beta_initial_matrix[k][j]\n",
    "            Y_fit[i][j] = total\n",
    "\n",
    "print(Y_fit)\n"
   ]
  },
  {
   "cell_type": "code",
   "execution_count": 124,
   "metadata": {},
   "outputs": [
    {
     "name": "stdout",
     "output_type": "stream",
     "text": [
      "[[152.0], [185.0], [180.0], [196.0], [142.0], [101.0], [149.0], [115.0], [175.0], [164.0], [141.0], [141.0], [184.0], [152.0], [148.0], [192.0], [147.0], [183.0], [177.0], [159.0], [177.0], [175.0], [175.0], [149.0], [192.0]]\n",
      "[[0.0], [0.0], [0.0], [0.0], [0.0], [0.0], [0.0], [0.0], [0.0], [0.0], [0.0], [0.0], [0.0], [0.0], [0.0], [0.0], [0.0], [0.0], [0.0], [0.0], [0.0], [0.0], [0.0], [0.0], [0.0]]\n"
     ]
    }
   ],
   "source": [
    "#Transforming Y_matrix and Y_fit \n",
    "\n",
    "print(Y_matrix)\n",
    "print(Y_fit)"
   ]
  },
  {
   "cell_type": "code",
   "execution_count": 125,
   "metadata": {},
   "outputs": [
    {
     "data": {
      "text/plain": [
       "[<matplotlib.lines.Line2D at 0x1464be81308>,\n",
       " <matplotlib.lines.Line2D at 0x1464be08a08>]"
      ]
     },
     "execution_count": 125,
     "metadata": {},
     "output_type": "execute_result"
    },
    {
     "data": {
      "image/png": "[encoded data removed]",
      "text/plain": [
       "<Figure size 432x288 with 1 Axes>"
      ]
     },
     "metadata": {
      "needs_background": "light"
     },
     "output_type": "display_data"
    }
   ],
   "source": [
    "\n",
    "\n",
    "plt.plot(Y_matrix,'ro',Y_fit)"
   ]
  },
  {
   "cell_type": "code",
   "execution_count": 135,
   "metadata": {},
   "outputs": [
    {
     "name": "stdout",
     "output_type": "stream",
     "text": [
      "[[0], [0], [0], [0]]\n",
      "[[0.261516], [0.262944], [0.2693416], [0.0032408000000000003]]\n"
     ]
    }
   ],
   "source": [
    "#Computing Beta New with learning rate and Jacobian\n",
    "\n",
    "#Initializing Beta Matrix \n",
    "beta_new_matrix = []\n",
    "learning_rate = 0.00001\n",
    "\n",
    "for i in range(len(attributes_array)+1):\n",
    "    beta_new_matrix.append([0])\n",
    "\n",
    "print(beta_new_matrix)\n",
    "\n",
    "for i in range(len(beta_initial_matrix)):    \n",
    "    beta_new_matrix[i][0] = beta_initial_matrix[i][0] - learning_rate*Jacobian[i][0]\n",
    "    \n",
    "print(beta_new_matrix)\n",
    "    \n",
    "\n"
   ]
  },
  {
   "cell_type": "code",
   "execution_count": 136,
   "metadata": {},
   "outputs": [
    {
     "name": "stdout",
     "output_type": "stream",
     "text": [
      "[[0], [0], [0], [0], [0], [0], [0], [0], [0], [0], [0], [0], [0], [0], [0], [0], [0], [0], [0], [0], [0], [0], [0], [0], [0]]\n",
      "[[60.3300488], [72.5120696], [71.4468128], [77.81144880000001], [55.3021248], [40.772800800000006], [58.245004], [43.179852800000006], [67.7684528], [62.7711456], [56.1158616], [55.3319992], [73.8139944], [61.3604616], [58.51291760000001], [73.5830384], [58.43751760000001], [69.89976560000001], [70.3708744], [62.965144], [68.30148080000001], [68.0264272], [65.1198768], [60.8260624], [75.15002080000001]]\n"
     ]
    }
   ],
   "source": [
    "#Computing Y = X*beta\n",
    "\n",
    "Y_fit = []\n",
    "\n",
    "\n",
    "rowsA = len(X_matrix)\n",
    "colsA = len(X_matrix[0])\n",
    "rowsB = len(beta_new_matrix)\n",
    "colsB = len(beta_new_matrix[0])\n",
    "\n",
    "\n",
    "Y_fit = []\n",
    "\n",
    "for i in range(rowsA):\n",
    "    Y_fit.append([])\n",
    "    for j in range(colsB):\n",
    "        Y_fit[i].append(0)\n",
    "\n",
    "print(Y_fit)\n",
    "\n",
    "for i in range(rowsA):\n",
    "        for j in range(colsB):\n",
    "            total = 0\n",
    "            for k in range(colsA):\n",
    "                total += X_matrix[i][k] * beta_new_matrix[k][j]\n",
    "            Y_fit[i][j] = total\n",
    "\n",
    "print(Y_fit)\n"
   ]
  },
  {
   "cell_type": "code",
   "execution_count": 137,
   "metadata": {},
   "outputs": [
    {
     "data": {
      "text/plain": [
       "[<matplotlib.lines.Line2D at 0x1464d0006c8>,\n",
       " <matplotlib.lines.Line2D at 0x1464cf9d388>]"
      ]
     },
     "execution_count": 137,
     "metadata": {},
     "output_type": "execute_result"
    },
    {
     "data": {
      "image/png": "[encoded data removed]",
      "text/plain": [
       "<Figure size 432x288 with 1 Axes>"
      ]
     },
     "metadata": {
      "needs_background": "light"
     },
     "output_type": "display_data"
    }
   ],
   "source": [
    "plt.plot(Y_matrix,'ro',Y_fit)"
   ]
  },
  {
   "cell_type": "code",
   "execution_count": 144,
   "metadata": {},
   "outputs": [
    {
     "name": "stdout",
     "output_type": "stream",
     "text": [
      "[[0.784548], [0.788832], [0.8080248000000001], [0.0097224]]\n",
      "[[0.65379], [0.6573599999999999], [0.6733540000000001], [0.008102000000000002]]\n"
     ]
    }
   ],
   "source": [
    "#Computing Beta New with learning rate and Jacobian\n",
    "\n",
    "learning_rate = -0.000005\n",
    "print(beta_new_matrix)\n",
    "\n",
    "for i in range(len(beta_initial_matrix)):    \n",
    "    beta_new_matrix[i][0] = beta_new_matrix[i][0] - learning_rate*Jacobian[i][0]\n",
    "    \n",
    "print(beta_new_matrix)"
   ]
  },
  {
   "cell_type": "code",
   "execution_count": 145,
   "metadata": {},
   "outputs": [
    {
     "name": "stdout",
     "output_type": "stream",
     "text": [
      "[[0], [0], [0], [0], [0], [0], [0], [0], [0], [0], [0], [0], [0], [0], [0], [0], [0], [0], [0], [0], [0], [0], [0], [0], [0]]\n",
      "[[150.82512200000002], [181.28017400000002], [178.61703200000002], [194.528622], [138.255312], [101.932002], [145.61251000000001], [107.949632], [169.421132], [156.927864], [140.289654], [138.329998], [184.534986], [153.401154], [146.282294], [183.95759600000002], [146.093794], [174.749414], [175.927186], [157.41286000000002], [170.753702], [170.06606800000003], [162.79969200000002], [152.065156], [187.875052]]\n"
     ]
    }
   ],
   "source": [
    "#Computing Y = X*beta\n",
    "\n",
    "Y_fit = []\n",
    "\n",
    "\n",
    "rowsA = len(X_matrix)\n",
    "colsA = len(X_matrix[0])\n",
    "rowsB = len(beta_new_matrix)\n",
    "colsB = len(beta_new_matrix[0])\n",
    "\n",
    "\n",
    "Y_fit = []\n",
    "\n",
    "for i in range(rowsA):\n",
    "    Y_fit.append([])\n",
    "    for j in range(colsB):\n",
    "        Y_fit[i].append(0)\n",
    "\n",
    "print(Y_fit)\n",
    "\n",
    "for i in range(rowsA):\n",
    "        for j in range(colsB):\n",
    "            total = 0\n",
    "            for k in range(colsA):\n",
    "                total += X_matrix[i][k] * beta_new_matrix[k][j]\n",
    "            Y_fit[i][j] = total\n",
    "\n",
    "print(Y_fit)\n"
   ]
  },
  {
   "cell_type": "code",
   "execution_count": 146,
   "metadata": {},
   "outputs": [
    {
     "data": {
      "text/plain": [
       "[<matplotlib.lines.Line2D at 0x1464d13e248>,\n",
       " <matplotlib.lines.Line2D at 0x1464bec9088>]"
      ]
     },
     "execution_count": 146,
     "metadata": {},
     "output_type": "execute_result"
    },
    {
     "data": {
      "image/png": "[encoded data removed]",
      "text/plain": [
       "<Figure size 432x288 with 1 Axes>"
      ]
     },
     "metadata": {
      "needs_background": "light"
     },
     "output_type": "display_data"
    }
   ],
   "source": [
    "plt.plot(Y_matrix,'ro',Y_fit)"
   ]
  },
  {
   "cell_type": "code",
   "execution_count": null,
   "metadata": {},
   "outputs": [],
   "source": []
  }
 ],
 "metadata": {
  "kernelspec": {
   "display_name": "Python 3",
   "language": "python",
   "name": "python3"
  },
  "language_info": {
   "codemirror_mode": {
    "name": "ipython",
    "version": 3
   },
   "file_extension": ".py",
   "mimetype": "text/x-python",
   "name": "python",
   "nbconvert_exporter": "python",
   "pygments_lexer": "ipython3",
   "version": "3.8.3"
  }
 },
 "nbformat": 4,
 "nbformat_minor": 4
}
